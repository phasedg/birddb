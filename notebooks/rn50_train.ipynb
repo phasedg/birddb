{
 "cells": [
  {
   "cell_type": "markdown",
   "id": "7c76c83c-1e9e-4359-95f1-d83680c8298f",
   "metadata": {},
   "source": [
    "# Notebook for training/testing"
   ]
  },
  {
   "cell_type": "code",
   "execution_count": null,
   "id": "57299f3b-b011-4f28-a258-1564343fa34d",
   "metadata": {},
   "outputs": [],
   "source": [
    "import numpy as np\n",
    "import matplotlib.pyplot as plt\n",
    "import torch\n",
    "import torchvision\n",
    "from torch.utils.data import DataLoader\n",
    "from torchvision.io import read_image,ImageReadMode\n",
    "from torch.utils.data import Dataset\n",
    "import torchvision.transforms.v2 as transforms\n",
    "import sys\n",
    "from PIL import Image\n",
    "import os\n",
    "\n",
    "import torch.nn as nn\n",
    "import torch.optim as optim\n",
    "from torchvision.io import read_image\n",
    "from torchvision.models import resnet50, ResNet50_Weights\n",
    "from torchvision.transforms import v2 as transforms\n"
   ]
  },
  {
   "cell_type": "code",
   "execution_count": null,
   "id": "bc36ab0e-65cd-46bd-af86-803ecca74167",
   "metadata": {},
   "outputs": [],
   "source": [
    "device = torch.device('cuda' if torch.cuda.is_available() else 'cpu')\n",
    "device\n"
   ]
  },
  {
   "cell_type": "code",
   "execution_count": null,
   "id": "30ec8b5d-f5ec-4d9d-9187-e3b2dc3ccd04",
   "metadata": {},
   "outputs": [],
   "source": [
    "cdir = !pwd\n",
    "rc = 'local' if 'dg' in cdir[0] else 'colab'\n",
    "if rc == 'colab':\n",
    "    !echo 'COL'\n",
    "else:\n",
    "    !echo 'Loc'\n"
   ]
  },
  {
   "cell_type": "code",
   "execution_count": null,
   "id": "57f56bdb-8952-4218-8d96-f01575039fba",
   "metadata": {},
   "outputs": [],
   "source": [
    "# Colab dir setup and extract\n",
    "untar = 'nab_bbs'\n",
    "if rc == 'colab':\n",
    "    from google.colab import drive\n",
    "    drive.mount('/content/gdrive/')\n",
    "    if untar == 'cub':\n",
    "      !tar -xvf '/content/gdrive/MyDrive/Colab Notebooks/CUB_200_2011.tgz' -C /content | tail\n",
    "    if untar == 'cub_sm':\n",
    "      !tar -xvf '/content/gdrive/MyDrive/Colab Notebooks/CUB_sm.tar' -C /content | tail\n",
    "    if untar == 'cub_bbs':\n",
    "      !tar -xzvf '/content/gdrive/MyDrive/Colab Notebooks/CUB_200_2011_bbs.tgz' -C /content | tail\n",
    "    if untar == 'nab_sm':\n",
    "      !tar -xzvf '/content/gdrive/MyDrive/Colab Notebooks/nabirds_sm.tgz' -C /content | tail\n",
    "    if untar == 'nab_bbs':\n",
    "      !tar -xzvf '/content/gdrive/MyDrive/Colab Notebooks/nabirds_bbs.tgz' -C /content | tail\n",
    "      !tar -xvf '/content/gdrive/MyDrive/Colab Notebooks/CUBtxt.tar' -C /content | tail\n",
    "    sys.path.append('/content/gdrive/MyDrive')\n"
   ]
  },
  {
   "cell_type": "code",
   "execution_count": null,
   "id": "ac7e862e-e8bc-4ca6-b693-7bb81cc27455",
   "metadata": {},
   "outputs": [],
   "source": [
    "from pathlib import Path\n",
    "if rc == 'colab':\n",
    "    datadir = Path('/content')\n",
    "    untar = 'CUB'\n",
    "    if untar == 'nab':\n",
    "      CUBDir = Path('/content/CUB_200_2011/CUB_200_2011/')\n",
    "    expdir = Path('/content/gdrive/MyDrive/birddb/expts')\n",
    "    sys.path.append('/content/gdrive/MyDrive/birddb/src')\n",
    "else:\n",
    "    datadir = Path('/data1/datasets/birds')\n",
    "    expir = Path('/data1/datasets/birds/expts')\n",
    "    sys.path.append('/home/dg/proj/birddb/src')\n"
   ]
  },
  {
   "cell_type": "code",
   "execution_count": null,
   "id": "JQpVQtBm4at4",
   "metadata": {},
   "outputs": [],
   "source": [
    "import birddb\n",
    "import trainer\n",
    "import models\n",
    "import expt"
   ]
  },
  {
   "cell_type": "code",
   "execution_count": null,
   "id": "6122e787-db00-4850-bc48-0dec1e742d48",
   "metadata": {},
   "outputs": [],
   "source": [
    "\n",
    "dbname = 'nabirds_bbs'\n",
    "myexpdir = str(expdir) + '/RN50_V1/T2/' + dbname\n",
    "if not os.path.exists(myexpdir):\n",
    "  os.makedirs(myexpdir)"
   ]
  },
  {
   "cell_type": "code",
   "execution_count": null,
   "id": "3602ca07-19b9-4825-b0e8-2a057052356e",
   "metadata": {},
   "outputs": [],
   "source": [
    "dbdir = Path(datadir / dbname)\n",
    "trainds = birddb.TrainImageDataset(dbdir)\n",
    "\n",
    "testds = birddb.TestImageDataset(dbdir,trainds)\n"
   ]
  },
  {
   "cell_type": "code",
   "execution_count": null,
   "id": "5c1b4bdd-bcaf-4580-b9fb-a90aeba2f2c3",
   "metadata": {},
   "outputs": [],
   "source": [
    "myexpt = expt.Expt_RN50_V1_T2(myexpdir,datadir,dbname,device)"
   ]
  },
  {
   "cell_type": "code",
   "execution_count": null,
   "id": "aa470699-b071-4257-ae9c-025ed285d382",
   "metadata": {},
   "outputs": [],
   "source": [
    "myexpt.trainer.dotfreq=10\n",
    "myexpt.trainModel(30)\n"
   ]
  },
  {
   "cell_type": "code",
   "execution_count": null,
   "id": "ymtu3FYAxFzM",
   "metadata": {},
   "outputs": [],
   "source": [
    "import importlib\n",
    "importlib.reload(expt)\n",
    "myexpt = expt.Expt_RN50_V1_T2(myexpdir,datadir,dbname,device)\n",
    "model = myexpt.loadModel()\n",
    "# note - makeDataloader always adds resize transform\n",
    "\n",
    "myexpt.visualizeOnDataset(trainds)\n"
   ]
  },
  {
   "cell_type": "code",
   "execution_count": null,
   "id": "OiYpeQ1f0UkR",
   "metadata": {},
   "outputs": [],
   "source": [
    "myexpt.visualizeOnDataset(testds)\n"
   ]
  },
  {
   "cell_type": "code",
   "execution_count": null,
   "id": "YqkoWzJX2bDh",
   "metadata": {},
   "outputs": [],
   "source": [
    "myexpt.testOnDataset(testds)\n"
   ]
  }
 ],
 "metadata": {
  "accelerator": "GPU",
  "colab": {
   "gpuType": "T4",
   "provenance": []
  },
  "kernelspec": {
   "display_name": "yoloenv",
   "language": "python",
   "name": "yoloenv"
  },
  "language_info": {
   "codemirror_mode": {
    "name": "ipython",
    "version": 3
   },
   "file_extension": ".py",
   "mimetype": "text/x-python",
   "name": "python",
   "nbconvert_exporter": "python",
   "pygments_lexer": "ipython3",
   "version": "3.11.8"
  }
 },
 "nbformat": 4,
 "nbformat_minor": 5
}
